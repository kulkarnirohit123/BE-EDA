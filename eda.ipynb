# 1. Import Libraries
import pandas as pd
import numpy as np
import matplotlib.pyplot as plt
import seaborn as sns

from sklearn.ensemble import RandomForestClassifier
from sklearn.model_selection import train_test_split
from sklearn.metrics import classification_report, accuracy_score, confusion_matrix

# 2. Load the Data
df = pd.read_csv('fetal_health.csv')
df.head()

# 3. Data Cleaning
print(df.isnull().sum())  # Check missing values
print(df.duplicated().sum())  # Check duplicate rows
df = df.drop_duplicates()

# 4. Exploratory Data Analysis (EDA)

## 4.1 Univariate Analysis
df.hist(figsize=(18, 14))
plt.tight_layout()
plt.show()

## 4.2 Correlation Heatmap
plt.figure(figsize=(15,12))
sns.heatmap(df.corr(), annot=True, fmt='.2f', cmap='coolwarm')
plt.title('Feature Correlation Matrix')
plt.show()

## 4.3 Boxplots for Outliers
for col in df.columns[:-1]:  # excluding 'fetal_health'
    plt.figure(figsize=(6,4))
    sns.boxplot(x=df[col])
    plt.title(f'Boxplot of {col}')
    plt.show()

# 5. Feature Engineering
# (Optional - If you want to create or transform features later)

# 6. Modeling

## 6.1 Split data
X = df.drop('fetal_health', axis=1)
y = df['fetal_health']

X_train, X_test, y_train, y_test = train_test_split(X, y, random_state=42, test_size=0.2)

## 6.2 Train Baseline Model
model = RandomForestClassifier(random_state=42)
model.fit(X_train, y_train)

## 6.3 Predict and Evaluate
y_pred = model.predict(X_test)

print("Accuracy Score:", accuracy_score(y_test, y_pred))
print("\nClassification Report:\n", classification_report(y_test, y_pred))

# 7. Conclusion
# Summarize findings (for README)
